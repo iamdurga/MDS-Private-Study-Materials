{
 "cells": [
  {
   "cell_type": "markdown",
   "metadata": {},
   "source": [
    "## 1. Create data frame with these two column vectors in R Studio.\n",
    "\n",
    "x = 1:30 \n",
    "y = x^3 \n"
   ]
  },
  {
   "cell_type": "code",
   "execution_count": 1,
   "metadata": {},
   "outputs": [
    {
     "name": "stdout",
     "output_type": "stream",
     "text": [
      "    x     y\n",
      "1   1     1\n",
      "2   2     8\n",
      "3   3    27\n",
      "4   4    64\n",
      "5   5   125\n",
      "6   6   216\n",
      "7   7   343\n",
      "8   8   512\n",
      "9   9   729\n",
      "10 10  1000\n",
      "11 11  1331\n",
      "12 12  1728\n",
      "13 13  2197\n",
      "14 14  2744\n",
      "15 15  3375\n",
      "16 16  4096\n",
      "17 17  4913\n",
      "18 18  5832\n",
      "19 19  6859\n",
      "20 20  8000\n",
      "21 21  9261\n",
      "22 22 10648\n",
      "23 23 12167\n",
      "24 24 13824\n",
      "25 25 15625\n",
      "26 26 17576\n",
      "27 27 19683\n",
      "28 28 21952\n",
      "29 29 24389\n",
      "30 30 27000\n"
     ]
    }
   ],
   "source": [
    "x <- c(1 :30)\n",
    "y <- x^3\n",
    "df <- data.frame(x<-c(1:30),y<-x^3)\n",
    "colnames(df) <- c('x', 'y')\n",
    "print(df)"
   ]
  },
  {
   "cell_type": "markdown",
   "metadata": {},
   "source": [
    "## 2. Create plot of x and y variables in R Studio and interpret it carefully."
   ]
  },
  {
   "cell_type": "code",
   "execution_count": 19,
   "metadata": {},
   "outputs": [
    {
     "data": {
      "image/png": "[encoded data removed]",
      "text/plain": [
       "Plot with title \"Plot of y=x^3\""
      ]
     },
     "metadata": {},
     "output_type": "display_data"
    }
   ],
   "source": [
    "x <- c(1 :30)\n",
    "y <- x^3\n",
    "df <- data.frame(x<-c(1:30),y<-x^3)\n",
    "colnames(df) <- c('x', 'y')\n",
    "plot(x,y, main=\"Plot of y=x^3\")"
   ]
  },
  {
   "cell_type": "markdown",
   "metadata": {},
   "source": [
    "## 3. Get appropriate correlation coefficient of this data in R Studio and interpret it carefully."
   ]
  },
  {
   "cell_type": "code",
   "execution_count": 3,
   "metadata": {},
   "outputs": [
    {
     "data": {
      "text/plain": [
       "\n",
       "\tSpearman's rank correlation rho\n",
       "\n",
       "data:  x and y\n",
       "S = 0, p-value < 2.2e-16\n",
       "alternative hypothesis: true rho is not equal to 0\n",
       "sample estimates:\n",
       "rho \n",
       "  1 \n"
      ]
     },
     "metadata": {},
     "output_type": "display_data"
    }
   ],
   "source": [
    "cor.test(x,y, method = \"spearman\")"
   ]
  },
  {
   "cell_type": "markdown",
   "metadata": {},
   "source": [
    "Given curve is non linear so, appropriate correlation coefficient must be spearman rank correlation. There is positive correlation and spearman's rank correlation coef. is ."
   ]
  },
  {
   "cell_type": "markdown",
   "metadata": {},
   "source": [
    "## 4. Transform the plot to linear using appropriate mathematical function in R Studio."
   ]
  },
  {
   "cell_type": "code",
   "execution_count": 22,
   "metadata": {},
   "outputs": [
    {
     "data": {
      "text/html": [
       "<ol class=list-inline>\n",
       "\t<li>FALSE</li>\n",
       "\t<li>FALSE</li>\n",
       "\t<li>FALSE</li>\n",
       "\t<li>FALSE</li>\n",
       "\t<li>FALSE</li>\n",
       "\t<li>FALSE</li>\n",
       "\t<li>FALSE</li>\n",
       "\t<li>FALSE</li>\n",
       "\t<li>FALSE</li>\n",
       "\t<li>FALSE</li>\n",
       "\t<li>FALSE</li>\n",
       "\t<li>FALSE</li>\n",
       "\t<li>FALSE</li>\n",
       "\t<li>FALSE</li>\n",
       "\t<li>FALSE</li>\n",
       "\t<li>FALSE</li>\n",
       "\t<li>FALSE</li>\n",
       "\t<li>FALSE</li>\n",
       "\t<li>FALSE</li>\n",
       "\t<li>FALSE</li>\n",
       "\t<li>FALSE</li>\n",
       "\t<li>FALSE</li>\n",
       "\t<li>FALSE</li>\n",
       "\t<li>FALSE</li>\n",
       "\t<li>FALSE</li>\n",
       "\t<li>FALSE</li>\n",
       "\t<li>FALSE</li>\n",
       "\t<li>FALSE</li>\n",
       "\t<li>FALSE</li>\n",
       "\t<li>FALSE</li>\n",
       "</ol>\n"
      ],
      "text/latex": [
       "\\begin{enumerate*}\n",
       "\\item FALSE\n",
       "\\item FALSE\n",
       "\\item FALSE\n",
       "\\item FALSE\n",
       "\\item FALSE\n",
       "\\item FALSE\n",
       "\\item FALSE\n",
       "\\item FALSE\n",
       "\\item FALSE\n",
       "\\item FALSE\n",
       "\\item FALSE\n",
       "\\item FALSE\n",
       "\\item FALSE\n",
       "\\item FALSE\n",
       "\\item FALSE\n",
       "\\item FALSE\n",
       "\\item FALSE\n",
       "\\item FALSE\n",
       "\\item FALSE\n",
       "\\item FALSE\n",
       "\\item FALSE\n",
       "\\item FALSE\n",
       "\\item FALSE\n",
       "\\item FALSE\n",
       "\\item FALSE\n",
       "\\item FALSE\n",
       "\\item FALSE\n",
       "\\item FALSE\n",
       "\\item FALSE\n",
       "\\item FALSE\n",
       "\\end{enumerate*}\n"
      ],
      "text/markdown": [
       "1. FALSE\n",
       "2. FALSE\n",
       "3. FALSE\n",
       "4. FALSE\n",
       "5. FALSE\n",
       "6. FALSE\n",
       "7. FALSE\n",
       "8. FALSE\n",
       "9. FALSE\n",
       "10. FALSE\n",
       "11. FALSE\n",
       "12. FALSE\n",
       "13. FALSE\n",
       "14. FALSE\n",
       "15. FALSE\n",
       "16. FALSE\n",
       "17. FALSE\n",
       "18. FALSE\n",
       "19. FALSE\n",
       "20. FALSE\n",
       "21. FALSE\n",
       "22. FALSE\n",
       "23. FALSE\n",
       "24. FALSE\n",
       "25. FALSE\n",
       "26. FALSE\n",
       "27. FALSE\n",
       "28. FALSE\n",
       "29. FALSE\n",
       "30. FALSE\n",
       "\n",
       "\n"
      ],
      "text/plain": [
       " [1] FALSE FALSE FALSE FALSE FALSE FALSE FALSE FALSE FALSE FALSE FALSE FALSE\n",
       "[13] FALSE FALSE FALSE FALSE FALSE FALSE FALSE FALSE FALSE FALSE FALSE FALSE\n",
       "[25] FALSE FALSE FALSE FALSE FALSE FALSE"
      ]
     },
     "metadata": {},
     "output_type": "display_data"
    },
    {
     "data": {
      "image/png": "[encoded data removed]",
      "text/plain": [
       "plot without title"
      ]
     },
     "metadata": {},
     "output_type": "display_data"
    }
   ],
   "source": [
    "X <- c(1 : 30)\n",
    "y < x^3\n",
    "z <- log(y)\n",
    "# print(z)\n",
    "plot(x,z)"
   ]
  },
  {
   "cell_type": "markdown",
   "metadata": {},
   "source": [
    "Above graph shows that the curve `y=x^3` is approximately linear by taking log of it."
   ]
  },
  {
   "cell_type": "markdown",
   "metadata": {},
   "source": [
    "## 5. Get appropriate correlation coefficient now in R Studio and interpret it carefully too."
   ]
  },
  {
   "cell_type": "code",
   "execution_count": 24,
   "metadata": {},
   "outputs": [
    {
     "data": {
      "text/html": [
       "<ol class=list-inline>\n",
       "\t<li>FALSE</li>\n",
       "\t<li>FALSE</li>\n",
       "\t<li>FALSE</li>\n",
       "\t<li>FALSE</li>\n",
       "\t<li>FALSE</li>\n",
       "\t<li>FALSE</li>\n",
       "\t<li>FALSE</li>\n",
       "\t<li>FALSE</li>\n",
       "\t<li>FALSE</li>\n",
       "\t<li>FALSE</li>\n",
       "\t<li>FALSE</li>\n",
       "\t<li>FALSE</li>\n",
       "\t<li>FALSE</li>\n",
       "\t<li>FALSE</li>\n",
       "\t<li>FALSE</li>\n",
       "\t<li>FALSE</li>\n",
       "\t<li>FALSE</li>\n",
       "\t<li>FALSE</li>\n",
       "\t<li>FALSE</li>\n",
       "\t<li>FALSE</li>\n",
       "\t<li>FALSE</li>\n",
       "\t<li>FALSE</li>\n",
       "\t<li>FALSE</li>\n",
       "\t<li>FALSE</li>\n",
       "\t<li>FALSE</li>\n",
       "\t<li>FALSE</li>\n",
       "\t<li>FALSE</li>\n",
       "\t<li>FALSE</li>\n",
       "\t<li>FALSE</li>\n",
       "\t<li>FALSE</li>\n",
       "</ol>\n"
      ],
      "text/latex": [
       "\\begin{enumerate*}\n",
       "\\item FALSE\n",
       "\\item FALSE\n",
       "\\item FALSE\n",
       "\\item FALSE\n",
       "\\item FALSE\n",
       "\\item FALSE\n",
       "\\item FALSE\n",
       "\\item FALSE\n",
       "\\item FALSE\n",
       "\\item FALSE\n",
       "\\item FALSE\n",
       "\\item FALSE\n",
       "\\item FALSE\n",
       "\\item FALSE\n",
       "\\item FALSE\n",
       "\\item FALSE\n",
       "\\item FALSE\n",
       "\\item FALSE\n",
       "\\item FALSE\n",
       "\\item FALSE\n",
       "\\item FALSE\n",
       "\\item FALSE\n",
       "\\item FALSE\n",
       "\\item FALSE\n",
       "\\item FALSE\n",
       "\\item FALSE\n",
       "\\item FALSE\n",
       "\\item FALSE\n",
       "\\item FALSE\n",
       "\\item FALSE\n",
       "\\end{enumerate*}\n"
      ],
      "text/markdown": [
       "1. FALSE\n",
       "2. FALSE\n",
       "3. FALSE\n",
       "4. FALSE\n",
       "5. FALSE\n",
       "6. FALSE\n",
       "7. FALSE\n",
       "8. FALSE\n",
       "9. FALSE\n",
       "10. FALSE\n",
       "11. FALSE\n",
       "12. FALSE\n",
       "13. FALSE\n",
       "14. FALSE\n",
       "15. FALSE\n",
       "16. FALSE\n",
       "17. FALSE\n",
       "18. FALSE\n",
       "19. FALSE\n",
       "20. FALSE\n",
       "21. FALSE\n",
       "22. FALSE\n",
       "23. FALSE\n",
       "24. FALSE\n",
       "25. FALSE\n",
       "26. FALSE\n",
       "27. FALSE\n",
       "28. FALSE\n",
       "29. FALSE\n",
       "30. FALSE\n",
       "\n",
       "\n"
      ],
      "text/plain": [
       " [1] FALSE FALSE FALSE FALSE FALSE FALSE FALSE FALSE FALSE FALSE FALSE FALSE\n",
       "[13] FALSE FALSE FALSE FALSE FALSE FALSE FALSE FALSE FALSE FALSE FALSE FALSE\n",
       "[25] FALSE FALSE FALSE FALSE FALSE FALSE"
      ]
     },
     "metadata": {},
     "output_type": "display_data"
    },
    {
     "data": {
      "text/plain": [
       "\n",
       "\tPearson's product-moment correlation\n",
       "\n",
       "data:  x and z\n",
       "t = 12.479, df = 28, p-value = 5.889e-13\n",
       "alternative hypothesis: true correlation is not equal to 0\n",
       "95 percent confidence interval:\n",
       " 0.8384858 0.9618787\n",
       "sample estimates:\n",
       "      cor \n",
       "0.9206457 \n"
      ]
     },
     "metadata": {},
     "output_type": "display_data"
    }
   ],
   "source": [
    "X <- c(1 : 30)\n",
    "y < x^3\n",
    "z <- log(y)\n",
    "cor.test(x,z, method = \"pearson\")"
   ]
  },
  {
   "cell_type": "markdown",
   "metadata": {},
   "source": [
    "Given equation is in approximately linear form so, appropriate correlation coeff. should be pearson correlation coeff. "
   ]
  },
  {
   "cell_type": "markdown",
   "metadata": {},
   "source": [
    "## 6. Create a new column vector z defined in the slide 18 of session two slide deck in R Studio."
   ]
  },
  {
   "cell_type": "code",
   "execution_count": 5,
   "metadata": {},
   "outputs": [
    {
     "name": "stdout",
     "output_type": "stream",
     "text": [
      " [1] 1 1 2 2 2 2 2 3 3 3 3 3 3 3 3 3 3 4 4 4 4 4 5 5 5 6 6 7\n"
     ]
    }
   ],
   "source": [
    "z <- c(1,1,2,2,2,2,2,3,3,3,3,3,3,3,3,3,3,4,4,4,4,4,5,5,5,6,6,7)\n",
    "print(z)\n"
   ]
  },
  {
   "cell_type": "markdown",
   "metadata": {},
   "source": [
    "## 7. Create a histogram of z variable in R Studio and interpret it carefully \n"
   ]
  },
  {
   "cell_type": "code",
   "execution_count": 6,
   "metadata": {},
   "outputs": [
    {
     "data": {
      "image/png": "[encoded data removed]",
      "text/plain": [
       "Plot with title \"Histogram of z\""
      ]
     },
     "metadata": {},
     "output_type": "display_data"
    }
   ],
   "source": [
    "hist(z)"
   ]
  },
  {
   "cell_type": "markdown",
   "metadata": {},
   "source": [
    "Histogram shows that the most occured z value is 3 and least occured is 7."
   ]
  },
  {
   "cell_type": "markdown",
   "metadata": {},
   "source": [
    "## 8. Get summary statistics of z variable in R Studio and interpret it carefully \n"
   ]
  },
  {
   "cell_type": "code",
   "execution_count": 7,
   "metadata": {},
   "outputs": [
    {
     "data": {
      "text/plain": [
       "   Min. 1st Qu.  Median    Mean 3rd Qu.    Max. \n",
       "  1.000   2.750   3.000   3.429   4.000   7.000 "
      ]
     },
     "metadata": {},
     "output_type": "display_data"
    }
   ],
   "source": [
    "summary(z)"
   ]
  },
  {
   "cell_type": "markdown",
   "metadata": {},
   "source": [
    "The mean is 3.429, Min value in the data is 1 maximum value is 7.\n"
   ]
  },
  {
   "cell_type": "markdown",
   "metadata": {},
   "source": [
    "## 9. Get box-plot of z variable in R Studio and interpret the result carefully \n",
    "\n",
    " \n",
    "\n",
    "\n"
   ]
  },
  {
   "cell_type": "code",
   "execution_count": 8,
   "metadata": {},
   "outputs": [
    {
     "data": {
      "image/png": "[encoded data removed]",
      "text/plain": [
       "plot without title"
      ]
     },
     "metadata": {},
     "output_type": "display_data"
    }
   ],
   "source": [
    "boxplot(z)"
   ]
  },
  {
   "cell_type": "markdown",
   "metadata": {},
   "source": [
    "There is one outliers seen because one data is very far away from 3rd quartile."
   ]
  },
  {
   "cell_type": "markdown",
   "metadata": {},
   "source": [
    "## 10. Import “covnep_252days.csv” data in R Studio and describe the variables in it \n"
   ]
  },
  {
   "cell_type": "code",
   "execution_count": 29,
   "metadata": {
    "scrolled": true
   },
   "outputs": [
    {
     "data": {
      "text/html": [
       "<table>\n",
       "<thead><tr><th scope=col>date</th><th scope=col>totalCases</th><th scope=col>newCases</th><th scope=col>totalRecoveries</th><th scope=col>newRecoveries</th><th scope=col>totalDeaths</th><th scope=col>newDeaths</th></tr></thead>\n",
       "<tbody>\n",
       "\t<tr><td>1/23/2020</td><td>1        </td><td>1        </td><td>0        </td><td>0        </td><td>0        </td><td>0        </td></tr>\n",
       "\t<tr><td>1/24/2020</td><td>0        </td><td>0        </td><td>0        </td><td>0        </td><td>0        </td><td>0        </td></tr>\n",
       "\t<tr><td>1/25/2020</td><td>0        </td><td>0        </td><td>0        </td><td>0        </td><td>0        </td><td>0        </td></tr>\n",
       "\t<tr><td>1/26/2020</td><td>0        </td><td>0        </td><td>0        </td><td>0        </td><td>0        </td><td>0        </td></tr>\n",
       "\t<tr><td>1/27/2020</td><td>0        </td><td>0        </td><td>0        </td><td>0        </td><td>0        </td><td>0        </td></tr>\n",
       "\t<tr><td>1/28/2020</td><td>0        </td><td>0        </td><td>0        </td><td>0        </td><td>0        </td><td>0        </td></tr>\n",
       "</tbody>\n",
       "</table>\n"
      ],
      "text/latex": [
       "\\begin{tabular}{r|lllllll}\n",
       " date & totalCases & newCases & totalRecoveries & newRecoveries & totalDeaths & newDeaths\\\\\n",
       "\\hline\n",
       "\t 1/23/2020 & 1         & 1         & 0         & 0         & 0         & 0        \\\\\n",
       "\t 1/24/2020 & 0         & 0         & 0         & 0         & 0         & 0        \\\\\n",
       "\t 1/25/2020 & 0         & 0         & 0         & 0         & 0         & 0        \\\\\n",
       "\t 1/26/2020 & 0         & 0         & 0         & 0         & 0         & 0        \\\\\n",
       "\t 1/27/2020 & 0         & 0         & 0         & 0         & 0         & 0        \\\\\n",
       "\t 1/28/2020 & 0         & 0         & 0         & 0         & 0         & 0        \\\\\n",
       "\\end{tabular}\n"
      ],
      "text/markdown": [
       "\n",
       "| date | totalCases | newCases | totalRecoveries | newRecoveries | totalDeaths | newDeaths |\n",
       "|---|---|---|---|---|---|---|\n",
       "| 1/23/2020 | 1         | 1         | 0         | 0         | 0         | 0         |\n",
       "| 1/24/2020 | 0         | 0         | 0         | 0         | 0         | 0         |\n",
       "| 1/25/2020 | 0         | 0         | 0         | 0         | 0         | 0         |\n",
       "| 1/26/2020 | 0         | 0         | 0         | 0         | 0         | 0         |\n",
       "| 1/27/2020 | 0         | 0         | 0         | 0         | 0         | 0         |\n",
       "| 1/28/2020 | 0         | 0         | 0         | 0         | 0         | 0         |\n",
       "\n"
      ],
      "text/plain": [
       "  date      totalCases newCases totalRecoveries newRecoveries totalDeaths\n",
       "1 1/23/2020 1          1        0               0             0          \n",
       "2 1/24/2020 0          0        0               0             0          \n",
       "3 1/25/2020 0          0        0               0             0          \n",
       "4 1/26/2020 0          0        0               0             0          \n",
       "5 1/27/2020 0          0        0               0             0          \n",
       "6 1/28/2020 0          0        0               0             0          \n",
       "  newDeaths\n",
       "1 0        \n",
       "2 0        \n",
       "3 0        \n",
       "4 0        \n",
       "5 0        \n",
       "6 0        "
      ]
     },
     "metadata": {},
     "output_type": "display_data"
    }
   ],
   "source": [
    "covid_np <- read.csv(\"F:/Statisticts with R/CSV file for covid data/covnep_252days.csv\")\n",
    "head(covid_np)"
   ]
  },
  {
   "cell_type": "markdown",
   "metadata": {},
   "source": [
    "## 11. Create a chart with “totalCases” variable in y-axis and “date” variable in the x-axis in R Studio, describe the process leading to the creation of this chart \n",
    "\n",
    " \n",
    "\n"
   ]
  },
  {
   "cell_type": "code",
   "execution_count": 30,
   "metadata": {},
   "outputs": [
    {
     "data": {
      "image/png": "[encoded data removed]",
      "text/plain": [
       "plot without title"
      ]
     },
     "metadata": {},
     "output_type": "display_data"
    }
   ],
   "source": [
    "covid_np <- read.csv(\"F:/Statisticts with R/CSV file for covid data/covnep_252days.csv\")\n",
    "plot(as.Date(strptime(covid_np$date, \"%m/%d/%Y\")), covid_np$totalCases, ylab=\"Total Cases\", xlab=\"Date\")"
   ]
  },
  {
   "cell_type": "markdown",
   "metadata": {},
   "source": [
    "## 12. Get summary statistics of “totalCases” variable in R Studio and interpret it carefully \n",
    "\n",
    " \n",
    "\n"
   ]
  },
  {
   "cell_type": "code",
   "execution_count": 31,
   "metadata": {},
   "outputs": [
    {
     "data": {
      "text/plain": [
       "   Min. 1st Qu.  Median    Mean 3rd Qu.    Max. \n",
       "      0       2     963   13376   19341   77816 "
      ]
     },
     "metadata": {},
     "output_type": "display_data"
    }
   ],
   "source": [
    "summary(covid_np$totalCases)"
   ]
  },
  {
   "cell_type": "markdown",
   "metadata": {},
   "source": [
    "The average totalCases per day seems to be 13376 with min as 0 and max as 77816."
   ]
  },
  {
   "cell_type": "markdown",
   "metadata": {},
   "source": [
    "## 13. Create histogram of “newCases” variable in R Studio and interpret it carefully \n",
    "\n",
    " \n"
   ]
  },
  {
   "cell_type": "code",
   "execution_count": 16,
   "metadata": {},
   "outputs": [
    {
     "data": {
      "image/png": "[encoded data removed]",
      "text/plain": [
       "Plot with title \"Histogram of New Cases\""
      ]
     },
     "metadata": {},
     "output_type": "display_data"
    }
   ],
   "source": [
    "hist(covid_np$newCases, xlab=\"New Cases\", main=\"Histogram of New Cases\")"
   ]
  },
  {
   "cell_type": "markdown",
   "metadata": {},
   "source": [
    "The New Cases was 0 for 150 times and 2000 seems to be occured 1 times and so on."
   ]
  },
  {
   "cell_type": "markdown",
   "metadata": {},
   "source": [
    "## 14. Get summary statistics of “newCases” variable in R Studio and interpret it carefully \n",
    "\n",
    " \n"
   ]
  },
  {
   "cell_type": "code",
   "execution_count": 33,
   "metadata": {},
   "outputs": [
    {
     "data": {
      "text/plain": [
       "   Min. 1st Qu.  Median    Mean 3rd Qu.    Max. \n",
       "    0.0     0.0    82.5   308.8   463.2  2020.0 "
      ]
     },
     "metadata": {},
     "output_type": "display_data"
    }
   ],
   "source": [
    "summary(covid_np$newCases)"
   ]
  },
  {
   "cell_type": "markdown",
   "metadata": {},
   "source": [
    "Average new cases per day seems to be 308 and max seems to be 2020."
   ]
  },
  {
   "cell_type": "markdown",
   "metadata": {},
   "source": [
    "## 15. Get “box and whisker” plot of “newCases” variable in R Studio and interpret it carefully \n",
    "\n",
    " \n",
    "\n"
   ]
  },
  {
   "cell_type": "code",
   "execution_count": 34,
   "metadata": {},
   "outputs": [
    {
     "data": {
      "image/png": "[encoded data removed]",
      "text/plain": [
       "plot without title"
      ]
     },
     "metadata": {},
     "output_type": "display_data"
    }
   ],
   "source": [
    "boxplot(covid_np$newCases)"
   ]
  },
  {
   "cell_type": "markdown",
   "metadata": {},
   "source": [
    "Most of the new cases are lying around 0 to 500 range."
   ]
  },
  {
   "cell_type": "markdown",
   "metadata": {},
   "source": [
    "## 16. Import “SAQ8.sav” data in R Studio and get frequency distribution (number and percentage of the attributes) of q01, q03, q06 and q08 variables on R Studio and interpret them carefully \n",
    "\n",
    " \n",
    "\n"
   ]
  },
  {
   "cell_type": "code",
   "execution_count": 10,
   "metadata": {},
   "outputs": [
    {
     "name": "stderr",
     "output_type": "stream",
     "text": [
      "Warning message:\n",
      "\"package 'haven' was built under R version 3.6.3\""
     ]
    },
    {
     "data": {
      "text/html": [
       "<table>\n",
       "<thead><tr><th scope=col>q01</th><th scope=col>q02</th><th scope=col>q03</th><th scope=col>q04</th><th scope=col>q05</th><th scope=col>q06</th><th scope=col>q07</th><th scope=col>q08</th></tr></thead>\n",
       "<tbody>\n",
       "\t<tr><td>2</td><td>1</td><td>4</td><td>2</td><td>2</td><td>2</td><td>3</td><td>1</td></tr>\n",
       "\t<tr><td>1</td><td>1</td><td>4</td><td>3</td><td>2</td><td>2</td><td>2</td><td>2</td></tr>\n",
       "\t<tr><td>2</td><td>3</td><td>2</td><td>2</td><td>4</td><td>1</td><td>2</td><td>2</td></tr>\n",
       "\t<tr><td>3</td><td>1</td><td>1</td><td>4</td><td>3</td><td>3</td><td>4</td><td>2</td></tr>\n",
       "\t<tr><td>2</td><td>1</td><td>3</td><td>2</td><td>2</td><td>3</td><td>3</td><td>2</td></tr>\n",
       "\t<tr><td>2</td><td>1</td><td>3</td><td>2</td><td>4</td><td>4</td><td>4</td><td>2</td></tr>\n",
       "</tbody>\n",
       "</table>\n"
      ],
      "text/latex": [
       "\\begin{tabular}{r|llllllll}\n",
       " q01 & q02 & q03 & q04 & q05 & q06 & q07 & q08\\\\\n",
       "\\hline\n",
       "\t 2 & 1 & 4 & 2 & 2 & 2 & 3 & 1\\\\\n",
       "\t 1 & 1 & 4 & 3 & 2 & 2 & 2 & 2\\\\\n",
       "\t 2 & 3 & 2 & 2 & 4 & 1 & 2 & 2\\\\\n",
       "\t 3 & 1 & 1 & 4 & 3 & 3 & 4 & 2\\\\\n",
       "\t 2 & 1 & 3 & 2 & 2 & 3 & 3 & 2\\\\\n",
       "\t 2 & 1 & 3 & 2 & 4 & 4 & 4 & 2\\\\\n",
       "\\end{tabular}\n"
      ],
      "text/markdown": [
       "\n",
       "| q01 | q02 | q03 | q04 | q05 | q06 | q07 | q08 |\n",
       "|---|---|---|---|---|---|---|---|\n",
       "| 2 | 1 | 4 | 2 | 2 | 2 | 3 | 1 |\n",
       "| 1 | 1 | 4 | 3 | 2 | 2 | 2 | 2 |\n",
       "| 2 | 3 | 2 | 2 | 4 | 1 | 2 | 2 |\n",
       "| 3 | 1 | 1 | 4 | 3 | 3 | 4 | 2 |\n",
       "| 2 | 1 | 3 | 2 | 2 | 3 | 3 | 2 |\n",
       "| 2 | 1 | 3 | 2 | 4 | 4 | 4 | 2 |\n",
       "\n"
      ],
      "text/plain": [
       "  q01 q02 q03 q04 q05 q06 q07 q08\n",
       "1 2   1   4   2   2   2   3   1  \n",
       "2 1   1   4   3   2   2   2   2  \n",
       "3 2   3   2   2   4   1   2   2  \n",
       "4 3   1   1   4   3   3   4   2  \n",
       "5 2   1   3   2   2   3   3   2  \n",
       "6 2   1   3   2   4   4   4   2  "
      ]
     },
     "metadata": {},
     "output_type": "display_data"
    }
   ],
   "source": [
    "library(\"haven\") # allows to read sav file\n",
    "saq8 <- read_sav(\"F:/Statisticts with R/CSV file for covid data/SAQ8.sav\")\n",
    "# print(saq8)\n",
    "saq8_df<-data.frame(saq8)\n",
    "head(saq8_df)\n"
   ]
  },
  {
   "cell_type": "markdown",
   "metadata": {},
   "source": [
    "Chart illustrate the frequency distribution of respective attributes of q01, q03, q06 and q08 variables\n"
   ]
  },
  {
   "cell_type": "code",
   "execution_count": 13,
   "metadata": {},
   "outputs": [
    {
     "data": {
      "text/html": [
       "<table>\n",
       "<thead><tr><th scope=col>q01</th><th scope=col>freq</th><th scope=col>Percentage</th><th scope=col>ValidPercentage</th><th scope=col>CumulativePercentage</th></tr></thead>\n",
       "<tbody>\n",
       "\t<tr><td>1    </td><td> 270 </td><td>10.5 </td><td>10.5 </td><td> 10.5</td></tr>\n",
       "\t<tr><td>2    </td><td>1338 </td><td>52.0 </td><td>52.0 </td><td> 62.5</td></tr>\n",
       "\t<tr><td>3    </td><td> 735 </td><td>28.6 </td><td>28.6 </td><td> 91.1</td></tr>\n",
       "\t<tr><td>4    </td><td> 187 </td><td> 7.3 </td><td> 7.3 </td><td> 98.4</td></tr>\n",
       "\t<tr><td>5    </td><td>  41 </td><td> 1.6 </td><td> 1.6 </td><td>100.0</td></tr>\n",
       "</tbody>\n",
       "</table>\n"
      ],
      "text/latex": [
       "\\begin{tabular}{r|lllll}\n",
       " q01 & freq & Percentage & ValidPercentage & CumulativePercentage\\\\\n",
       "\\hline\n",
       "\t 1     &  270  & 10.5  & 10.5  &  10.5\\\\\n",
       "\t 2     & 1338  & 52.0  & 52.0  &  62.5\\\\\n",
       "\t 3     &  735  & 28.6  & 28.6  &  91.1\\\\\n",
       "\t 4     &  187  &  7.3  &  7.3  &  98.4\\\\\n",
       "\t 5     &   41  &  1.6  &  1.6  & 100.0\\\\\n",
       "\\end{tabular}\n"
      ],
      "text/markdown": [
       "\n",
       "| q01 | freq | Percentage | ValidPercentage | CumulativePercentage |\n",
       "|---|---|---|---|---|\n",
       "| 1     |  270  | 10.5  | 10.5  |  10.5 |\n",
       "| 2     | 1338  | 52.0  | 52.0  |  62.5 |\n",
       "| 3     |  735  | 28.6  | 28.6  |  91.1 |\n",
       "| 4     |  187  |  7.3  |  7.3  |  98.4 |\n",
       "| 5     |   41  |  1.6  |  1.6  | 100.0 |\n",
       "\n"
      ],
      "text/plain": [
       "  q01 freq Percentage ValidPercentage CumulativePercentage\n",
       "1 1    270 10.5       10.5             10.5               \n",
       "2 2   1338 52.0       52.0             62.5               \n",
       "3 3    735 28.6       28.6             91.1               \n",
       "4 4    187  7.3        7.3             98.4               \n",
       "5 5     41  1.6        1.6            100.0               "
      ]
     },
     "metadata": {},
     "output_type": "display_data"
    }
   ],
   "source": [
    "library(\"plyr\") # required library \n",
    "df1 <- count(saq8_df, \"q01\")\n",
    "df1$Percentage <- round(100*df1$freq/sum(df1$freq),1)\n",
    "df1$ValidPercentage <- df1$Percentage\n",
    "df1$CumulativePercentage <- cumsum(df1$Percentage)\n",
    "df1"
   ]
  },
  {
   "cell_type": "markdown",
   "metadata": {},
   "source": [
    "Frequency Distribution of q01 variable"
   ]
  },
  {
   "cell_type": "code",
   "execution_count": 14,
   "metadata": {},
   "outputs": [
    {
     "data": {
      "text/html": [
       "<table>\n",
       "<thead><tr><th scope=col>q03</th><th scope=col>freq</th><th scope=col>Percentage</th><th scope=col>ValidPercentage</th><th scope=col>CumulativePercentage</th></tr></thead>\n",
       "<tbody>\n",
       "\t<tr><td>1    </td><td>497  </td><td>19.3 </td><td>19.3 </td><td> 19.3</td></tr>\n",
       "\t<tr><td>2    </td><td>672  </td><td>26.1 </td><td>26.1 </td><td> 45.4</td></tr>\n",
       "\t<tr><td>3    </td><td>878  </td><td>34.2 </td><td>34.2 </td><td> 79.6</td></tr>\n",
       "\t<tr><td>4    </td><td>448  </td><td>17.4 </td><td>17.4 </td><td> 97.0</td></tr>\n",
       "\t<tr><td>5    </td><td> 76  </td><td> 3.0 </td><td> 3.0 </td><td>100.0</td></tr>\n",
       "</tbody>\n",
       "</table>\n"
      ],
      "text/latex": [
       "\\begin{tabular}{r|lllll}\n",
       " q03 & freq & Percentage & ValidPercentage & CumulativePercentage\\\\\n",
       "\\hline\n",
       "\t 1     & 497   & 19.3  & 19.3  &  19.3\\\\\n",
       "\t 2     & 672   & 26.1  & 26.1  &  45.4\\\\\n",
       "\t 3     & 878   & 34.2  & 34.2  &  79.6\\\\\n",
       "\t 4     & 448   & 17.4  & 17.4  &  97.0\\\\\n",
       "\t 5     &  76   &  3.0  &  3.0  & 100.0\\\\\n",
       "\\end{tabular}\n"
      ],
      "text/markdown": [
       "\n",
       "| q03 | freq | Percentage | ValidPercentage | CumulativePercentage |\n",
       "|---|---|---|---|---|\n",
       "| 1     | 497   | 19.3  | 19.3  |  19.3 |\n",
       "| 2     | 672   | 26.1  | 26.1  |  45.4 |\n",
       "| 3     | 878   | 34.2  | 34.2  |  79.6 |\n",
       "| 4     | 448   | 17.4  | 17.4  |  97.0 |\n",
       "| 5     |  76   |  3.0  |  3.0  | 100.0 |\n",
       "\n"
      ],
      "text/plain": [
       "  q03 freq Percentage ValidPercentage CumulativePercentage\n",
       "1 1   497  19.3       19.3             19.3               \n",
       "2 2   672  26.1       26.1             45.4               \n",
       "3 3   878  34.2       34.2             79.6               \n",
       "4 4   448  17.4       17.4             97.0               \n",
       "5 5    76   3.0        3.0            100.0               "
      ]
     },
     "metadata": {},
     "output_type": "display_data"
    }
   ],
   "source": [
    "library(\"plyr\") # required library \n",
    "df2 <- count(saq8_df, \"q03\")\n",
    "df2$Percentage <- round(100*df2$freq/sum(df2$freq),1)\n",
    "df2$ValidPercentage <- df2$Percentage\n",
    "df2$CumulativePercentage <- cumsum(df2$Percentage)\n",
    "df2"
   ]
  },
  {
   "cell_type": "markdown",
   "metadata": {},
   "source": [
    "Frequency Distribution of q03 variable"
   ]
  },
  {
   "cell_type": "code",
   "execution_count": 15,
   "metadata": {},
   "outputs": [
    {
     "data": {
      "text/html": [
       "<table>\n",
       "<thead><tr><th scope=col>q06</th><th scope=col>freq</th><th scope=col>Percentage</th><th scope=col>ValidPercentage</th><th scope=col>CumulativePercentage</th></tr></thead>\n",
       "<tbody>\n",
       "\t<tr><td>1    </td><td> 702 </td><td>27.3 </td><td>27.3 </td><td> 27.3</td></tr>\n",
       "\t<tr><td>2    </td><td>1127 </td><td>43.8 </td><td>43.8 </td><td> 71.1</td></tr>\n",
       "\t<tr><td>3    </td><td> 344 </td><td>13.4 </td><td>13.4 </td><td> 84.5</td></tr>\n",
       "\t<tr><td>4    </td><td> 252 </td><td> 9.8 </td><td> 9.8 </td><td> 94.3</td></tr>\n",
       "\t<tr><td>5    </td><td> 146 </td><td> 5.7 </td><td> 5.7 </td><td>100.0</td></tr>\n",
       "</tbody>\n",
       "</table>\n"
      ],
      "text/latex": [
       "\\begin{tabular}{r|lllll}\n",
       " q06 & freq & Percentage & ValidPercentage & CumulativePercentage\\\\\n",
       "\\hline\n",
       "\t 1     &  702  & 27.3  & 27.3  &  27.3\\\\\n",
       "\t 2     & 1127  & 43.8  & 43.8  &  71.1\\\\\n",
       "\t 3     &  344  & 13.4  & 13.4  &  84.5\\\\\n",
       "\t 4     &  252  &  9.8  &  9.8  &  94.3\\\\\n",
       "\t 5     &  146  &  5.7  &  5.7  & 100.0\\\\\n",
       "\\end{tabular}\n"
      ],
      "text/markdown": [
       "\n",
       "| q06 | freq | Percentage | ValidPercentage | CumulativePercentage |\n",
       "|---|---|---|---|---|\n",
       "| 1     |  702  | 27.3  | 27.3  |  27.3 |\n",
       "| 2     | 1127  | 43.8  | 43.8  |  71.1 |\n",
       "| 3     |  344  | 13.4  | 13.4  |  84.5 |\n",
       "| 4     |  252  |  9.8  |  9.8  |  94.3 |\n",
       "| 5     |  146  |  5.7  |  5.7  | 100.0 |\n",
       "\n"
      ],
      "text/plain": [
       "  q06 freq Percentage ValidPercentage CumulativePercentage\n",
       "1 1    702 27.3       27.3             27.3               \n",
       "2 2   1127 43.8       43.8             71.1               \n",
       "3 3    344 13.4       13.4             84.5               \n",
       "4 4    252  9.8        9.8             94.3               \n",
       "5 5    146  5.7        5.7            100.0               "
      ]
     },
     "metadata": {},
     "output_type": "display_data"
    }
   ],
   "source": [
    "library(\"plyr\") # required library \n",
    "df3 <- count(saq8_df, \"q06\")\n",
    "df3$Percentage <- round(100*df3$freq/sum(df3$freq),1)\n",
    "df3$ValidPercentage <- df3$Percentage\n",
    "df3$CumulativePercentage <- cumsum(df3$Percentage)\n",
    "df3"
   ]
  },
  {
   "cell_type": "markdown",
   "metadata": {},
   "source": [
    "Frequency Distribution of q06 variable"
   ]
  },
  {
   "cell_type": "code",
   "execution_count": 16,
   "metadata": {},
   "outputs": [
    {
     "data": {
      "text/html": [
       "<table>\n",
       "<thead><tr><th scope=col>q08</th><th scope=col>freq</th><th scope=col>Percentage</th><th scope=col>ValidPercentage</th><th scope=col>CumulativePercentage</th></tr></thead>\n",
       "<tbody>\n",
       "\t<tr><td>1   </td><td> 383</td><td>14.9</td><td>14.9</td><td>14.9</td></tr>\n",
       "\t<tr><td>2   </td><td>1487</td><td>57.8</td><td>57.8</td><td>72.7</td></tr>\n",
       "\t<tr><td>3   </td><td> 482</td><td>18.7</td><td>18.7</td><td>91.4</td></tr>\n",
       "\t<tr><td>4   </td><td> 147</td><td> 5.7</td><td> 5.7</td><td>97.1</td></tr>\n",
       "\t<tr><td>5   </td><td>  72</td><td> 2.8</td><td> 2.8</td><td>99.9</td></tr>\n",
       "</tbody>\n",
       "</table>\n"
      ],
      "text/latex": [
       "\\begin{tabular}{r|lllll}\n",
       " q08 & freq & Percentage & ValidPercentage & CumulativePercentage\\\\\n",
       "\\hline\n",
       "\t 1    &  383 & 14.9 & 14.9 & 14.9\\\\\n",
       "\t 2    & 1487 & 57.8 & 57.8 & 72.7\\\\\n",
       "\t 3    &  482 & 18.7 & 18.7 & 91.4\\\\\n",
       "\t 4    &  147 &  5.7 &  5.7 & 97.1\\\\\n",
       "\t 5    &   72 &  2.8 &  2.8 & 99.9\\\\\n",
       "\\end{tabular}\n"
      ],
      "text/markdown": [
       "\n",
       "| q08 | freq | Percentage | ValidPercentage | CumulativePercentage |\n",
       "|---|---|---|---|---|\n",
       "| 1    |  383 | 14.9 | 14.9 | 14.9 |\n",
       "| 2    | 1487 | 57.8 | 57.8 | 72.7 |\n",
       "| 3    |  482 | 18.7 | 18.7 | 91.4 |\n",
       "| 4    |  147 |  5.7 |  5.7 | 97.1 |\n",
       "| 5    |   72 |  2.8 |  2.8 | 99.9 |\n",
       "\n"
      ],
      "text/plain": [
       "  q08 freq Percentage ValidPercentage CumulativePercentage\n",
       "1 1    383 14.9       14.9            14.9                \n",
       "2 2   1487 57.8       57.8            72.7                \n",
       "3 3    482 18.7       18.7            91.4                \n",
       "4 4    147  5.7        5.7            97.1                \n",
       "5 5     72  2.8        2.8            99.9                "
      ]
     },
     "metadata": {},
     "output_type": "display_data"
    }
   ],
   "source": [
    "library(\"plyr\") # required library \n",
    "df4 <- count(saq8_df, \"q08\")\n",
    "df4$Percentage <- round(100*df4$freq/sum(df4$freq),1)\n",
    "df4$ValidPercentage <- df4$Percentage\n",
    "df4$CumulativePercentage <- cumsum(df4$Percentage)\n",
    "df4"
   ]
  },
  {
   "cell_type": "markdown",
   "metadata": {},
   "source": [
    "Frequency Distribution of q08 variable"
   ]
  },
  {
   "cell_type": "markdown",
   "metadata": {},
   "source": [
    "## 17. Import “MR_drugs.xls” data in R Studio and replicate multiple response frequency distribution as shown in the slide 35 of the session 2 slide deck "
   ]
  },
  {
   "cell_type": "markdown",
   "metadata": {},
   "source": [
    "### Multiple Response Variable\n",
    "\n"
   ]
  },
  {
   "cell_type": "code",
   "execution_count": 19,
   "metadata": {},
   "outputs": [
    {
     "data": {
      "text/html": [
       "<table>\n",
       "<thead><tr><th></th><th scope=col>N</th><th scope=col>PctOfResp</th><th scope=col>PctOfCases</th></tr></thead>\n",
       "<tbody>\n",
       "\t<tr><th scope=row>inco1</th><td>226      </td><td>12.833617</td><td>23.251029</td></tr>\n",
       "\t<tr><th scope=row>inco2</th><td>607      </td><td>34.469052</td><td>62.448560</td></tr>\n",
       "\t<tr><th scope=row>inco3</th><td>293      </td><td>16.638274</td><td>30.144033</td></tr>\n",
       "\t<tr><th scope=row>inco4</th><td> 50      </td><td> 2.839296</td><td> 5.144033</td></tr>\n",
       "\t<tr><th scope=row>inco5</th><td> 82      </td><td> 4.656445</td><td> 8.436214</td></tr>\n",
       "\t<tr><th scope=row>inco6</th><td>151      </td><td> 8.574673</td><td>15.534979</td></tr>\n",
       "\t<tr><th scope=row>inco7</th><td>352      </td><td>19.988643</td><td>36.213992</td></tr>\n",
       "</tbody>\n",
       "</table>\n"
      ],
      "text/latex": [
       "\\begin{tabular}{r|lll}\n",
       "  & N & PctOfResp & PctOfCases\\\\\n",
       "\\hline\n",
       "\tinco1 & 226       & 12.833617 & 23.251029\\\\\n",
       "\tinco2 & 607       & 34.469052 & 62.448560\\\\\n",
       "\tinco3 & 293       & 16.638274 & 30.144033\\\\\n",
       "\tinco4 &  50       &  2.839296 &  5.144033\\\\\n",
       "\tinco5 &  82       &  4.656445 &  8.436214\\\\\n",
       "\tinco6 & 151       &  8.574673 & 15.534979\\\\\n",
       "\tinco7 & 352       & 19.988643 & 36.213992\\\\\n",
       "\\end{tabular}\n"
      ],
      "text/markdown": [
       "\n",
       "| <!--/--> | N | PctOfResp | PctOfCases |\n",
       "|---|---|---|---|\n",
       "| inco1 | 226       | 12.833617 | 23.251029 |\n",
       "| inco2 | 607       | 34.469052 | 62.448560 |\n",
       "| inco3 | 293       | 16.638274 | 30.144033 |\n",
       "| inco4 |  50       |  2.839296 |  5.144033 |\n",
       "| inco5 |  82       |  4.656445 |  8.436214 |\n",
       "| inco6 | 151       |  8.574673 | 15.534979 |\n",
       "| inco7 | 352       | 19.988643 | 36.213992 |\n",
       "\n"
      ],
      "text/plain": [
       "      N   PctOfResp PctOfCases\n",
       "inco1 226 12.833617 23.251029 \n",
       "inco2 607 34.469052 62.448560 \n",
       "inco3 293 16.638274 30.144033 \n",
       "inco4  50  2.839296  5.144033 \n",
       "inco5  82  4.656445  8.436214 \n",
       "inco6 151  8.574673 15.534979 \n",
       "inco7 352 19.988643 36.213992 "
      ]
     },
     "metadata": {},
     "output_type": "display_data"
    }
   ],
   "source": [
    "# Import package if not install, \"install.packages(\"readxl\")\"\n",
    "library(\"readxl\")\n",
    "mr_drug <- read_excel(\"F:/Statisticts with R/CSV file for covid data/MR_Drugs.xls\")\n",
    "mr_drug<-data.frame(N = colSums(mr_drug[4:10]),\n",
    "                       PctOfResp = (colSums(mr_drug[4:10])/sum(mr_drug[4:10]))*100,\n",
    "                       PctOfCases=(colSums(mr_drug[4:10])/nrow(mr_drug[4:10]))*100)\n",
    "\n",
    "mr_drug\n",
    "\n"
   ]
  },
  {
   "cell_type": "code",
   "execution_count": null,
   "metadata": {},
   "outputs": [],
   "source": []
  },
  {
   "cell_type": "code",
   "execution_count": null,
   "metadata": {},
   "outputs": [],
   "source": []
  }
 ],
 "metadata": {
  "kernelspec": {
   "display_name": "R",
   "language": "R",
   "name": "ir"
  },
  "language_info": {
   "codemirror_mode": "r",
   "file_extension": ".r",
   "mimetype": "text/x-r-source",
   "name": "R",
   "pygments_lexer": "r",
   "version": "3.6.1"
  }
 },
 "nbformat": 4,
 "nbformat_minor": 4
}
